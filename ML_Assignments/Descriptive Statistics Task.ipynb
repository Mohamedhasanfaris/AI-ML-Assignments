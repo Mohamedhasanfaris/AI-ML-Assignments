{
 "cells": [
  {
   "cell_type": "code",
   "execution_count": 1,
   "id": "16547924",
   "metadata": {},
   "outputs": [],
   "source": [
    "import pandas as pd\n",
    "import numpy as np\n",
    "import matplotlib.pyplot as plt"
   ]
  },
  {
   "cell_type": "code",
   "execution_count": 2,
   "id": "5193f1e6",
   "metadata": {},
   "outputs": [
    {
     "data": {
      "text/html": [
       "<div>\n",
       "<style scoped>\n",
       "    .dataframe tbody tr th:only-of-type {\n",
       "        vertical-align: middle;\n",
       "    }\n",
       "\n",
       "    .dataframe tbody tr th {\n",
       "        vertical-align: top;\n",
       "    }\n",
       "\n",
       "    .dataframe thead th {\n",
       "        text-align: right;\n",
       "    }\n",
       "</style>\n",
       "<table border=\"1\" class=\"dataframe\">\n",
       "  <thead>\n",
       "    <tr style=\"text-align: right;\">\n",
       "      <th></th>\n",
       "      <th>DrawDate</th>\n",
       "      <th>WB1</th>\n",
       "      <th>WB2</th>\n",
       "      <th>WB3</th>\n",
       "      <th>WB4</th>\n",
       "      <th>WB5</th>\n",
       "      <th>PB</th>\n",
       "      <th>PP</th>\n",
       "    </tr>\n",
       "  </thead>\n",
       "  <tbody>\n",
       "    <tr>\n",
       "      <th>0</th>\n",
       "      <td>03/15/2017</td>\n",
       "      <td>30</td>\n",
       "      <td>16</td>\n",
       "      <td>41</td>\n",
       "      <td>48</td>\n",
       "      <td>53</td>\n",
       "      <td>16</td>\n",
       "      <td>3.0</td>\n",
       "    </tr>\n",
       "    <tr>\n",
       "      <th>1</th>\n",
       "      <td>03/11/2017</td>\n",
       "      <td>57</td>\n",
       "      <td>41</td>\n",
       "      <td>50</td>\n",
       "      <td>26</td>\n",
       "      <td>1</td>\n",
       "      <td>11</td>\n",
       "      <td>2.0</td>\n",
       "    </tr>\n",
       "    <tr>\n",
       "      <th>2</th>\n",
       "      <td>03/08/2017</td>\n",
       "      <td>42</td>\n",
       "      <td>23</td>\n",
       "      <td>59</td>\n",
       "      <td>46</td>\n",
       "      <td>33</td>\n",
       "      <td>4</td>\n",
       "      <td>2.0</td>\n",
       "    </tr>\n",
       "    <tr>\n",
       "      <th>3</th>\n",
       "      <td>03/04/2017</td>\n",
       "      <td>2</td>\n",
       "      <td>22</td>\n",
       "      <td>63</td>\n",
       "      <td>19</td>\n",
       "      <td>18</td>\n",
       "      <td>19</td>\n",
       "      <td>3.0</td>\n",
       "    </tr>\n",
       "    <tr>\n",
       "      <th>4</th>\n",
       "      <td>03/01/2017</td>\n",
       "      <td>16</td>\n",
       "      <td>10</td>\n",
       "      <td>52</td>\n",
       "      <td>40</td>\n",
       "      <td>55</td>\n",
       "      <td>17</td>\n",
       "      <td>10.0</td>\n",
       "    </tr>\n",
       "    <tr>\n",
       "      <th>...</th>\n",
       "      <td>...</td>\n",
       "      <td>...</td>\n",
       "      <td>...</td>\n",
       "      <td>...</td>\n",
       "      <td>...</td>\n",
       "      <td>...</td>\n",
       "      <td>...</td>\n",
       "      <td>...</td>\n",
       "    </tr>\n",
       "    <tr>\n",
       "      <th>2017</th>\n",
       "      <td>11/15/1997</td>\n",
       "      <td>32</td>\n",
       "      <td>7</td>\n",
       "      <td>45</td>\n",
       "      <td>21</td>\n",
       "      <td>26</td>\n",
       "      <td>8</td>\n",
       "      <td>NaN</td>\n",
       "    </tr>\n",
       "    <tr>\n",
       "      <th>2018</th>\n",
       "      <td>11/12/1997</td>\n",
       "      <td>41</td>\n",
       "      <td>14</td>\n",
       "      <td>13</td>\n",
       "      <td>29</td>\n",
       "      <td>16</td>\n",
       "      <td>1</td>\n",
       "      <td>NaN</td>\n",
       "    </tr>\n",
       "    <tr>\n",
       "      <th>2019</th>\n",
       "      <td>11/08/1997</td>\n",
       "      <td>40</td>\n",
       "      <td>17</td>\n",
       "      <td>21</td>\n",
       "      <td>7</td>\n",
       "      <td>49</td>\n",
       "      <td>37</td>\n",
       "      <td>NaN</td>\n",
       "    </tr>\n",
       "    <tr>\n",
       "      <th>2020</th>\n",
       "      <td>11/05/1997</td>\n",
       "      <td>2</td>\n",
       "      <td>19</td>\n",
       "      <td>35</td>\n",
       "      <td>24</td>\n",
       "      <td>28</td>\n",
       "      <td>26</td>\n",
       "      <td>NaN</td>\n",
       "    </tr>\n",
       "    <tr>\n",
       "      <th>2021</th>\n",
       "      <td>11/01/1997</td>\n",
       "      <td>37</td>\n",
       "      <td>28</td>\n",
       "      <td>33</td>\n",
       "      <td>22</td>\n",
       "      <td>25</td>\n",
       "      <td>20</td>\n",
       "      <td>NaN</td>\n",
       "    </tr>\n",
       "  </tbody>\n",
       "</table>\n",
       "<p>2022 rows × 8 columns</p>\n",
       "</div>"
      ],
      "text/plain": [
       "        DrawDate  WB1  WB2  WB3  WB4  WB5  PB    PP\n",
       "0     03/15/2017   30   16   41   48   53  16   3.0\n",
       "1     03/11/2017   57   41   50   26    1  11   2.0\n",
       "2     03/08/2017   42   23   59   46   33   4   2.0\n",
       "3     03/04/2017    2   22   63   19   18  19   3.0\n",
       "4     03/01/2017   16   10   52   40   55  17  10.0\n",
       "...          ...  ...  ...  ...  ...  ...  ..   ...\n",
       "2017  11/15/1997   32    7   45   21   26   8   NaN\n",
       "2018  11/12/1997   41   14   13   29   16   1   NaN\n",
       "2019  11/08/1997   40   17   21    7   49  37   NaN\n",
       "2020  11/05/1997    2   19   35   24   28  26   NaN\n",
       "2021  11/01/1997   37   28   33   22   25  20   NaN\n",
       "\n",
       "[2022 rows x 8 columns]"
      ]
     },
     "execution_count": 2,
     "metadata": {},
     "output_type": "execute_result"
    }
   ],
   "source": [
    "pb=pd.read_csv('pb_winning_numbers_03-18-2017.csv')\n",
    "pb"
   ]
  },
  {
   "cell_type": "code",
   "execution_count": 3,
   "id": "e8d2c8cf",
   "metadata": {},
   "outputs": [
    {
     "data": {
      "text/html": [
       "<div>\n",
       "<style scoped>\n",
       "    .dataframe tbody tr th:only-of-type {\n",
       "        vertical-align: middle;\n",
       "    }\n",
       "\n",
       "    .dataframe tbody tr th {\n",
       "        vertical-align: top;\n",
       "    }\n",
       "\n",
       "    .dataframe thead th {\n",
       "        text-align: right;\n",
       "    }\n",
       "</style>\n",
       "<table border=\"1\" class=\"dataframe\">\n",
       "  <thead>\n",
       "    <tr style=\"text-align: right;\">\n",
       "      <th></th>\n",
       "      <th>WB1</th>\n",
       "      <th>WB2</th>\n",
       "      <th>WB3</th>\n",
       "      <th>WB4</th>\n",
       "      <th>WB5</th>\n",
       "      <th>PB</th>\n",
       "    </tr>\n",
       "  </thead>\n",
       "  <tbody>\n",
       "    <tr>\n",
       "      <th>0</th>\n",
       "      <td>30</td>\n",
       "      <td>16</td>\n",
       "      <td>41</td>\n",
       "      <td>48</td>\n",
       "      <td>53</td>\n",
       "      <td>16</td>\n",
       "    </tr>\n",
       "    <tr>\n",
       "      <th>1</th>\n",
       "      <td>57</td>\n",
       "      <td>41</td>\n",
       "      <td>50</td>\n",
       "      <td>26</td>\n",
       "      <td>1</td>\n",
       "      <td>11</td>\n",
       "    </tr>\n",
       "    <tr>\n",
       "      <th>2</th>\n",
       "      <td>42</td>\n",
       "      <td>23</td>\n",
       "      <td>59</td>\n",
       "      <td>46</td>\n",
       "      <td>33</td>\n",
       "      <td>4</td>\n",
       "    </tr>\n",
       "    <tr>\n",
       "      <th>3</th>\n",
       "      <td>2</td>\n",
       "      <td>22</td>\n",
       "      <td>63</td>\n",
       "      <td>19</td>\n",
       "      <td>18</td>\n",
       "      <td>19</td>\n",
       "    </tr>\n",
       "    <tr>\n",
       "      <th>4</th>\n",
       "      <td>16</td>\n",
       "      <td>10</td>\n",
       "      <td>52</td>\n",
       "      <td>40</td>\n",
       "      <td>55</td>\n",
       "      <td>17</td>\n",
       "    </tr>\n",
       "    <tr>\n",
       "      <th>...</th>\n",
       "      <td>...</td>\n",
       "      <td>...</td>\n",
       "      <td>...</td>\n",
       "      <td>...</td>\n",
       "      <td>...</td>\n",
       "      <td>...</td>\n",
       "    </tr>\n",
       "    <tr>\n",
       "      <th>2017</th>\n",
       "      <td>32</td>\n",
       "      <td>7</td>\n",
       "      <td>45</td>\n",
       "      <td>21</td>\n",
       "      <td>26</td>\n",
       "      <td>8</td>\n",
       "    </tr>\n",
       "    <tr>\n",
       "      <th>2018</th>\n",
       "      <td>41</td>\n",
       "      <td>14</td>\n",
       "      <td>13</td>\n",
       "      <td>29</td>\n",
       "      <td>16</td>\n",
       "      <td>1</td>\n",
       "    </tr>\n",
       "    <tr>\n",
       "      <th>2019</th>\n",
       "      <td>40</td>\n",
       "      <td>17</td>\n",
       "      <td>21</td>\n",
       "      <td>7</td>\n",
       "      <td>49</td>\n",
       "      <td>37</td>\n",
       "    </tr>\n",
       "    <tr>\n",
       "      <th>2020</th>\n",
       "      <td>2</td>\n",
       "      <td>19</td>\n",
       "      <td>35</td>\n",
       "      <td>24</td>\n",
       "      <td>28</td>\n",
       "      <td>26</td>\n",
       "    </tr>\n",
       "    <tr>\n",
       "      <th>2021</th>\n",
       "      <td>37</td>\n",
       "      <td>28</td>\n",
       "      <td>33</td>\n",
       "      <td>22</td>\n",
       "      <td>25</td>\n",
       "      <td>20</td>\n",
       "    </tr>\n",
       "  </tbody>\n",
       "</table>\n",
       "<p>2022 rows × 6 columns</p>\n",
       "</div>"
      ],
      "text/plain": [
       "      WB1  WB2  WB3  WB4  WB5  PB\n",
       "0      30   16   41   48   53  16\n",
       "1      57   41   50   26    1  11\n",
       "2      42   23   59   46   33   4\n",
       "3       2   22   63   19   18  19\n",
       "4      16   10   52   40   55  17\n",
       "...   ...  ...  ...  ...  ...  ..\n",
       "2017   32    7   45   21   26   8\n",
       "2018   41   14   13   29   16   1\n",
       "2019   40   17   21    7   49  37\n",
       "2020    2   19   35   24   28  26\n",
       "2021   37   28   33   22   25  20\n",
       "\n",
       "[2022 rows x 6 columns]"
      ]
     },
     "execution_count": 3,
     "metadata": {},
     "output_type": "execute_result"
    }
   ],
   "source": [
    "pb1=pb.drop(['PP','DrawDate'],axis=1)\n",
    "pb1"
   ]
  },
  {
   "cell_type": "code",
   "execution_count": 4,
   "id": "75a05a7d",
   "metadata": {},
   "outputs": [
    {
     "data": {
      "text/plain": [
       "WB1    28.551434\n",
       "WB2    27.653808\n",
       "WB3    28.635509\n",
       "WB4    28.615727\n",
       "WB5    28.588032\n",
       "PB     19.688427\n",
       "dtype: float64"
      ]
     },
     "execution_count": 4,
     "metadata": {},
     "output_type": "execute_result"
    }
   ],
   "source": [
    "pb1.mean()"
   ]
  },
  {
   "cell_type": "code",
   "execution_count": 5,
   "id": "9611b576",
   "metadata": {},
   "outputs": [
    {
     "data": {
      "text/plain": [
       "WB1    29.0\n",
       "WB2    26.0\n",
       "WB3    28.0\n",
       "WB4    28.0\n",
       "WB5    29.0\n",
       "PB     19.0\n",
       "dtype: float64"
      ]
     },
     "execution_count": 5,
     "metadata": {},
     "output_type": "execute_result"
    }
   ],
   "source": [
    "pb1.median()"
   ]
  },
  {
   "cell_type": "code",
   "execution_count": 6,
   "id": "93378feb",
   "metadata": {},
   "outputs": [
    {
     "data": {
      "text/html": [
       "<div>\n",
       "<style scoped>\n",
       "    .dataframe tbody tr th:only-of-type {\n",
       "        vertical-align: middle;\n",
       "    }\n",
       "\n",
       "    .dataframe tbody tr th {\n",
       "        vertical-align: top;\n",
       "    }\n",
       "\n",
       "    .dataframe thead th {\n",
       "        text-align: right;\n",
       "    }\n",
       "</style>\n",
       "<table border=\"1\" class=\"dataframe\">\n",
       "  <thead>\n",
       "    <tr style=\"text-align: right;\">\n",
       "      <th></th>\n",
       "      <th>WB1</th>\n",
       "      <th>WB2</th>\n",
       "      <th>WB3</th>\n",
       "      <th>WB4</th>\n",
       "      <th>WB5</th>\n",
       "      <th>PB</th>\n",
       "    </tr>\n",
       "  </thead>\n",
       "  <tbody>\n",
       "    <tr>\n",
       "      <th>0</th>\n",
       "      <td>40</td>\n",
       "      <td>5.0</td>\n",
       "      <td>42.0</td>\n",
       "      <td>16.0</td>\n",
       "      <td>26.0</td>\n",
       "      <td>20.0</td>\n",
       "    </tr>\n",
       "    <tr>\n",
       "      <th>1</th>\n",
       "      <td>41</td>\n",
       "      <td>NaN</td>\n",
       "      <td>NaN</td>\n",
       "      <td>NaN</td>\n",
       "      <td>NaN</td>\n",
       "      <td>NaN</td>\n",
       "    </tr>\n",
       "  </tbody>\n",
       "</table>\n",
       "</div>"
      ],
      "text/plain": [
       "   WB1  WB2   WB3   WB4   WB5    PB\n",
       "0   40  5.0  42.0  16.0  26.0  20.0\n",
       "1   41  NaN   NaN   NaN   NaN   NaN"
      ]
     },
     "execution_count": 6,
     "metadata": {},
     "output_type": "execute_result"
    }
   ],
   "source": [
    "pb1.mode()"
   ]
  },
  {
   "cell_type": "code",
   "execution_count": 7,
   "id": "52979570",
   "metadata": {},
   "outputs": [
    {
     "data": {
      "text/plain": [
       "41"
      ]
     },
     "execution_count": 7,
     "metadata": {},
     "output_type": "execute_result"
    }
   ],
   "source": [
    "#Range\n",
    "max(pb['PB']) - min(pb['PB'])"
   ]
  },
  {
   "cell_type": "code",
   "execution_count": 8,
   "id": "d95c83f0",
   "metadata": {},
   "outputs": [
    {
     "data": {
      "text/plain": [
       "count    2022.000000\n",
       "mean       19.688427\n",
       "std        11.353780\n",
       "min         1.000000\n",
       "25%        10.000000\n",
       "50%        19.000000\n",
       "75%        29.000000\n",
       "max        42.000000\n",
       "Name: PB, dtype: float64"
      ]
     },
     "execution_count": 8,
     "metadata": {},
     "output_type": "execute_result"
    }
   ],
   "source": [
    "pb['PB'].describe()"
   ]
  },
  {
   "cell_type": "code",
   "execution_count": 9,
   "id": "7347dae7",
   "metadata": {},
   "outputs": [
    {
     "data": {
      "text/plain": [
       "19.0"
      ]
     },
     "execution_count": 9,
     "metadata": {},
     "output_type": "execute_result"
    }
   ],
   "source": [
    "pb['PB'].quantile(0.75) - pb['PB'].quantile(0.25)"
   ]
  },
  {
   "cell_type": "code",
   "execution_count": 10,
   "id": "2503db17",
   "metadata": {},
   "outputs": [
    {
     "data": {
      "image/png": "[encoded data removed]",
      "text/plain": [
       "<Figure size 800x800 with 1 Axes>"
      ]
     },
     "metadata": {},
     "output_type": "display_data"
    }
   ],
   "source": [
    "pb.boxplot(column='PB',\n",
    "            return_type='axes',\n",
    "             figsize=(8,8))\n",
    "\n",
    "plt.text(x=0.74, y=22.25, s='3rd quantile')\n",
    "plt.text(x=0.8, y=18.75, s='Median')\n",
    "plt.text(x=0.75, y=15.5, s='1st quantile')\n",
    "plt.text(x=0.9, y=10, s='Min')\n",
    "plt.text(x=0.9, y=33.5, s='Max')\n",
    "plt.text(x=0.7, y=19.5, s='IQR',rotation=90, size=25);"
   ]
  },
  {
   "cell_type": "code",
   "execution_count": 11,
   "id": "7dfd63f9",
   "metadata": {},
   "outputs": [
    {
     "data": {
      "text/plain": [
       "128.90831726809157"
      ]
     },
     "execution_count": 11,
     "metadata": {},
     "output_type": "execute_result"
    }
   ],
   "source": [
    "#Variance \n",
    "pb['PB'].var()"
   ]
  },
  {
   "cell_type": "code",
   "execution_count": 12,
   "id": "5173e5d3",
   "metadata": {},
   "outputs": [
    {
     "data": {
      "text/plain": [
       "11.353779866991061"
      ]
     },
     "execution_count": 12,
     "metadata": {},
     "output_type": "execute_result"
    }
   ],
   "source": [
    "#standard Deviation\n",
    "pb['PB'].std()"
   ]
  },
  {
   "cell_type": "code",
   "execution_count": 13,
   "id": "bd7a053b",
   "metadata": {},
   "outputs": [
    {
     "data": {
      "text/plain": [
       "0.10473944534503558"
      ]
     },
     "execution_count": 13,
     "metadata": {},
     "output_type": "execute_result"
    }
   ],
   "source": [
    "#Skewness\n",
    "pb['PB'].skew()"
   ]
  },
  {
   "cell_type": "code",
   "execution_count": 14,
   "id": "a5201565",
   "metadata": {},
   "outputs": [
    {
     "data": {
      "text/plain": [
       "-1.0919118130632282"
      ]
     },
     "execution_count": 14,
     "metadata": {},
     "output_type": "execute_result"
    }
   ],
   "source": [
    "#Kurtosis\n",
    "pb['PB'].kurt() "
   ]
  }
 ],
 "metadata": {
  "kernelspec": {
   "display_name": "Python 3 (ipykernel)",
   "language": "python",
   "name": "python3"
  },
  "language_info": {
   "codemirror_mode": {
    "name": "ipython",
    "version": 3
   },
   "file_extension": ".py",
   "mimetype": "text/x-python",
   "name": "python",
   "nbconvert_exporter": "python",
   "pygments_lexer": "ipython3",
   "version": "3.11.4"
  }
 },
 "nbformat": 4,
 "nbformat_minor": 5
}
